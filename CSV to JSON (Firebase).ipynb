{
 "cells": [
  {
   "cell_type": "markdown",
   "id": "4ed3cfc9",
   "metadata": {},
   "source": [
    "# Function to convert a CSV to JSON"
   ]
  },
  {
   "cell_type": "code",
   "execution_count": 1,
   "id": "ab47f6c6",
   "metadata": {},
   "outputs": [],
   "source": [
    "#import CSV and JSON Libraries\n",
    "import csv\n",
    "import json"
   ]
  },
  {
   "cell_type": "code",
   "execution_count": 2,
   "id": "b56dc52d",
   "metadata": {},
   "outputs": [],
   "source": [
    "# CSV to JSON converting function\n",
    "def make_json(csvFilePath, jsonFilePath):\n",
    "    data = []\n",
    "    with open(csvFilePath, encoding='utf-8') as csvf:\n",
    "        csvReader = csv.DictReader(csvf)\n",
    "        \n",
    "        for rows in csvReader:\n",
    "            data.append(rows)\n",
    "    \n",
    "    with open(jsonFilePath, 'w', encoding='utf-8') as jsonf:\n",
    "        jsonf.write(json.dumps(data, indent = 4))"
   ]
  },
  {
   "cell_type": "code",
   "execution_count": 3,
   "id": "e24f3fc1",
   "metadata": {},
   "outputs": [],
   "source": [
    "# call funtion and Parse Path to CSV File and JSON save Path\n",
    "make_json('recipes_categorized.csv', r'recipes_processed_categorized.json')"
   ]
  }
 ],
 "metadata": {
  "kernelspec": {
   "display_name": "Python 3 (ipykernel)",
   "language": "python",
   "name": "python3"
  },
  "language_info": {
   "codemirror_mode": {
    "name": "ipython",
    "version": 3
   },
   "file_extension": ".py",
   "mimetype": "text/x-python",
   "name": "python",
   "nbconvert_exporter": "python",
   "pygments_lexer": "ipython3",
   "version": "3.9.7"
  }
 },
 "nbformat": 4,
 "nbformat_minor": 5
}
