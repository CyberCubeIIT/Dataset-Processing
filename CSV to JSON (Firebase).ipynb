{
 "cells": [
  {
   "cell_type": "markdown",
   "id": "4ed3cfc9",
   "metadata": {},
   "source": [
    "# Function to convert a CSV to JSON"
   ]
  },
  {
   "cell_type": "code",
   "execution_count": 6,
   "id": "ab47f6c6",
   "metadata": {},
   "outputs": [],
   "source": [
    "#import CSV and JSON Libraries\n",
    "import csv\n",
    "import json"
   ]
  },
  {
   "cell_type": "code",
   "execution_count": 7,
   "id": "b56dc52d",
   "metadata": {},
   "outputs": [],
   "source": [
    "# CSV to JSON converting function\n",
    "def make_json(csvFilePath, jsonFilePath):\n",
    "    \n",
    "    with open(csvFilePath, \"r\", encoding='UTF8') as f:\n",
    "        reader = csv.reader(f)\n",
    "        next(reader)\n",
    "        data = []\n",
    "        for row in reader:\n",
    "            data.append({\"index\": int(row[0]), \"recipeId\": int(row[1]), \"name\": row[2], \"authorName\": row[3], \"cookTime\": row[4], \"prepTime\": row[5], \"totalTime\": row[6], \"description\": row[7], \"images\": eval(row[8]), \"recipeCategory\": row[9], \"keywords\": eval(row[10]), \"recipeIngredientQuantities\": eval(row[11]), \"recipeIngredientParts\": eval(row[12]), \"aggregatedRating\": float(row[13]), \"calories\": float(row[14]), \"fatContent\": float(row[15]), \"saturatedFatContent\": float(row[16]), \"cholesterolContent\": float(row[17]), \"sodiumContent\": float(row[18]), \"carbohydrateContent\": float(row[19]), \"fiberContent\": float(row[20]), \"sugarContent\": float(row[21]), \"proteinContent\": float(row[22]), \"recipeServings\": float(row[23]), \"recipeInstructions\": eval(row[24]), \"foodTypes\": row[25], \"healthy\": int(row[26]), \"non-Veg dessert\": int(row[27]), \"non-veg\": int(row[28]), \"veg\": int(row[29]), \"veg dessert\": int(row[30])})\n",
    "        \n",
    "    with open(jsonFilePath, \"w\") as f:\n",
    "        json.dump(data, f, indent=4)"
   ]
  },
  {
   "cell_type": "code",
   "execution_count": 8,
   "id": "e24f3fc1",
   "metadata": {},
   "outputs": [],
   "source": [
    "# call funtion and Parse Path to CSV File and JSON save Path\n",
    "make_json('recipes_categorized.csv', r'recipes_processed_categorized.json')"
   ]
  },
  {
   "cell_type": "code",
   "execution_count": null,
   "id": "a5af8bb8",
   "metadata": {},
   "outputs": [],
   "source": []
  }
 ],
 "metadata": {
  "kernelspec": {
   "display_name": "Python 3 (ipykernel)",
   "language": "python",
   "name": "python3"
  },
  "language_info": {
   "codemirror_mode": {
    "name": "ipython",
    "version": 3
   },
   "file_extension": ".py",
   "mimetype": "text/x-python",
   "name": "python",
   "nbconvert_exporter": "python",
   "pygments_lexer": "ipython3",
   "version": "3.9.7"
  }
 },
 "nbformat": 4,
 "nbformat_minor": 5
}
